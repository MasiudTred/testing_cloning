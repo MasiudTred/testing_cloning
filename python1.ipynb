with open('products.json','r') as file:
    data = json.load(file)
